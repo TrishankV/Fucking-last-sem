{
  "nbformat": 4,
  "nbformat_minor": 0,
  "metadata": {
    "colab": {
      "provenance": []
    },
    "kernelspec": {
      "name": "python3",
      "display_name": "Python 3"
    },
    "language_info": {
      "name": "python"
    }
  },
  "cells": [
    {
      "cell_type": "code",
      "execution_count": 2,
      "metadata": {
        "colab": {
          "base_uri": "https://localhost:8080/",
          "height": 850
        },
        "id": "HRT9Ru2nuuRZ",
        "outputId": "72b2b132-0f07-4f29-dd51-daf72307f9bd"
      },
      "outputs": [
        {
          "output_type": "stream",
          "name": "stdout",
          "text": [
            "Epoch 0, Loss: 0.2357\n",
            "Epoch 500, Loss: 0.0647\n",
            "Epoch 1000, Loss: 0.0675\n",
            "Epoch 1500, Loss: 0.0673\n",
            "Epoch 2000, Loss: 0.0694\n",
            "Epoch 2500, Loss: 0.0678\n",
            "Epoch 3000, Loss: 0.0645\n",
            "Epoch 3500, Loss: 0.0684\n",
            "Epoch 4000, Loss: 0.0690\n",
            "Epoch 4500, Loss: 0.0674\n",
            "Epoch 5000, Loss: 0.0668\n",
            "Epoch 5500, Loss: 0.0683\n",
            "Epoch 6000, Loss: 0.0684\n",
            "Epoch 6500, Loss: 0.0661\n",
            "Epoch 7000, Loss: 0.0684\n",
            "Epoch 7500, Loss: 0.0639\n",
            "Epoch 8000, Loss: 0.0672\n",
            "Epoch 8500, Loss: 0.0699\n",
            "Epoch 9000, Loss: 0.0689\n",
            "Epoch 9500, Loss: 0.0664\n",
            "Epoch 10000, Loss: 0.0684\n",
            "Epoch 10500, Loss: 0.0632\n",
            "Epoch 11000, Loss: 0.0713\n",
            "Epoch 11500, Loss: 0.0682\n",
            "Epoch 12000, Loss: 0.0642\n",
            "Epoch 12500, Loss: 0.0678\n",
            "Epoch 13000, Loss: 0.0677\n",
            "Epoch 13500, Loss: 0.0695\n",
            "Epoch 14000, Loss: 0.0697\n",
            "Epoch 14500, Loss: 0.0691\n",
            "Epoch 15000, Loss: 0.0653\n",
            "Epoch 15500, Loss: 0.0697\n",
            "Epoch 16000, Loss: 0.0674\n",
            "Epoch 16500, Loss: 0.0633\n",
            "Epoch 17000, Loss: 0.0667\n",
            "Epoch 17500, Loss: 0.0672\n",
            "Epoch 18000, Loss: 0.0679\n",
            "Epoch 18500, Loss: 0.0664\n",
            "Epoch 19000, Loss: 0.0698\n",
            "Epoch 19500, Loss: 0.0699\n"
          ]
        },
        {
          "output_type": "display_data",
          "data": {
            "text/plain": [
              "<Figure size 1000x200 with 5 Axes>"
            ],
            "image/png": "[encoded data removed]"
          },
          "metadata": {}
        }
      ],
      "source": [
        "import tensorflow as tf\n",
        "import numpy as np\n",
        "import matplotlib.pyplot as plt\n",
        "\n",
        "# Load and preprocess MNIST dataset\n",
        "(x_train, _), (_, _) = tf.keras.datasets.mnist.load_data()\n",
        "x_train = x_train.astype(np.float32) / 255.0  # Normalize to [0,1]\n",
        "x_train = x_train.reshape(-1, 28*28)  # Flatten to 784-dim vector\n",
        "\n",
        "# Define model hyperparameters\n",
        "latent_dim = 100  # Noise input dimension\n",
        "hidden_dim = 256  # Size of hidden layers\n",
        "output_dim = 784  # Output size (28x28 pixels)\n",
        "\n",
        "# Define GMLN Generator\n",
        "def build_generator():\n",
        "    model = tf.keras.Sequential([\n",
        "        tf.keras.layers.Dense(hidden_dim, activation='relu'),\n",
        "        tf.keras.layers.Dense(hidden_dim, activation='relu'),\n",
        "        tf.keras.layers.Dense(output_dim, activation='sigmoid')  # Output 28x28 image\n",
        "    ])\n",
        "    return model\n",
        "\n",
        "# Instantiate the model\n",
        "generator = build_generator()\n",
        "\n",
        "# Define loss and optimizer\n",
        "loss_fn = tf.keras.losses.MeanSquaredError()\n",
        "optimizer = tf.keras.optimizers.Adam(learning_rate=0.001)\n",
        "\n",
        "# Training function\n",
        "def train_gmln(epochs=5000, batch_size=128):\n",
        "    for epoch in range(epochs):\n",
        "        idx = np.random.randint(0, x_train.shape[0], batch_size)\n",
        "        real_data = x_train[idx]\n",
        "\n",
        "        # Generate random noise\n",
        "        noise = np.random.normal(0, 1, (batch_size, latent_dim))\n",
        "\n",
        "        # Generate fake data\n",
        "        fake_data = generator(noise, training=True)\n",
        "\n",
        "        # Compute loss\n",
        "        loss = loss_fn(real_data, fake_data)\n",
        "\n",
        "        # Update generator\n",
        "        with tf.GradientTape() as tape:\n",
        "            fake_data = generator(noise, training=True)\n",
        "            loss = loss_fn(real_data, fake_data)\n",
        "        grads = tape.gradient(loss, generator.trainable_variables)\n",
        "        optimizer.apply_gradients(zip(grads, generator.trainable_variables))\n",
        "\n",
        "        # Print progress\n",
        "        if epoch % 500 == 0:\n",
        "            print(f\"Epoch {epoch}, Loss: {loss.numpy():.4f}\")\n",
        "\n",
        "# Train the GMLN\n",
        "train_gmln(epochs=20000)\n",
        "\n",
        "# Generate and visualize new digits\n",
        "def generate_samples(n_samples=5):\n",
        "    noise = np.random.normal(0, 1, (n_samples, latent_dim))\n",
        "    generated_images = generator(noise).numpy().reshape(-1, 28, 28)\n",
        "\n",
        "    plt.figure(figsize=(10, 2))\n",
        "    for i in range(n_samples):\n",
        "        plt.subplot(1, n_samples, i + 1)\n",
        "        plt.imshow(generated_images[i], cmap='gray')\n",
        "        plt.axis('off')\n",
        "    plt.show()\n",
        "\n",
        "# Generate and show samples\n",
        "generate_samples()\n"
      ]
    },
    {
      "cell_type": "code",
      "source": [],
      "metadata": {
        "id": "OkMuoMHb0roW"
      },
      "execution_count": null,
      "outputs": []
    }
  ]
}