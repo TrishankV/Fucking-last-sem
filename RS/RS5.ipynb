{
  "nbformat": 4,
  "nbformat_minor": 0,
  "metadata": {
    "colab": {
      "provenance": []
    },
    "kernelspec": {
      "name": "python3",
      "display_name": "Python 3"
    },
    "language_info": {
      "name": "python"
    }
  },
  "cells": [
    {
      "cell_type": "markdown",
      "source": [
        "#  Implementing a Knowledge-Based Recommendation System\n"
      ],
      "metadata": {
        "id": "4KmMPgKKkTeg"
      }
    },
    {
      "cell_type": "code",
      "execution_count": 1,
      "metadata": {
        "colab": {
          "base_uri": "https://localhost:8080/"
        },
        "id": "OgBb25XDkOUB",
        "outputId": "8ce7d703-331a-42d6-b16d-137c943699dc"
      },
      "outputs": [
        {
          "output_type": "stream",
          "name": "stdout",
          "text": [
            "Dataset URL: https://www.kaggle.com/datasets/vishalmane10/anime-dataset-2022\n",
            "License(s): CC0-1.0\n",
            "Downloading anime-dataset-2022.zip to /content\n",
            "  0% 0.00/4.74M [00:00<?, ?B/s]\n",
            "100% 4.74M/4.74M [00:00<00:00, 84.6MB/s]\n"
          ]
        }
      ],
      "source": [
        "!kaggle datasets download vishalmane10/anime-dataset-2022"
      ]
    },
    {
      "cell_type": "code",
      "source": [
        "\n",
        "!unzip /content/anime-dataset-2022.zip\n"
      ],
      "metadata": {
        "colab": {
          "base_uri": "https://localhost:8080/"
        },
        "id": "68stq07DkhhX",
        "outputId": "327262bd-f22c-4a1e-ca2d-bcdeb3e547a3"
      },
      "execution_count": 2,
      "outputs": [
        {
          "output_type": "stream",
          "name": "stdout",
          "text": [
            "Archive:  /content/anime-dataset-2022.zip\n",
            "  inflating: Anime.csv               \n"
          ]
        }
      ]
    },
    {
      "cell_type": "code",
      "source": [
        "import pandas as pd\n",
        "import numpy as np"
      ],
      "metadata": {
        "id": "9wZlPEvRkvPi"
      },
      "execution_count": 5,
      "outputs": []
    },
    {
      "cell_type": "code",
      "source": [
        "data = pd.read_csv(\"/content/Anime.csv\")"
      ],
      "metadata": {
        "id": "0yooingUkqjp"
      },
      "execution_count": 6,
      "outputs": []
    },
    {
      "cell_type": "code",
      "source": [
        "data.head(5)"
      ],
      "metadata": {
        "colab": {
          "base_uri": "https://localhost:8080/",
          "height": 649
        },
        "id": "I12kRTibkzUd",
        "outputId": "73575a81-de62-41a5-d2b9-a5640871eef3"
      },
      "execution_count": 7,
      "outputs": [
        {
          "output_type": "execute_result",
          "data": {
            "text/plain": [
              "   Rank                                               Name  \\\n",
              "0     1  Demon Slayer: Kimetsu no Yaiba - Entertainment...   \n",
              "1     2                     Fruits Basket the Final Season   \n",
              "2     3                                    Mo Dao Zu Shi 3   \n",
              "3     4                   Fullmetal Alchemist: Brotherhood   \n",
              "4     5                Attack on Titan 3rd Season: Part II   \n",
              "\n",
              "                                     Japanese_name   Type  Episodes  \\\n",
              "0                    Kimetsu no Yaiba: Yuukaku-hen  TV          NaN   \n",
              "1                          Fruits Basket the Final  TV         13.0   \n",
              "2                       The Founder of Diabolism 3  Web        12.0   \n",
              "3   Hagane no Renkinjutsushi: Full Metal Alchemist  TV         64.0   \n",
              "4             Shingeki no Kyojin Season 3: Part II  TV         10.0   \n",
              "\n",
              "              Studio Release_season  \\\n",
              "0           ufotable          Fall    \n",
              "1  TMS Entertainment         Spring   \n",
              "2   B.C MAY PICTURES            NaN   \n",
              "3              Bones         Spring   \n",
              "4         WIT Studio         Spring   \n",
              "\n",
              "                                                Tags  Rating  Release_year  \\\n",
              "0  Action, Adventure, Fantasy, Shounen, Demons, H...    4.60        2021.0   \n",
              "1  Drama, Fantasy, Romance, Shoujo, Animal Transf...    4.60        2021.0   \n",
              "2  Fantasy, Ancient China, Chinese Animation, Cul...    4.58        2021.0   \n",
              "3  Action, Adventure, Drama, Fantasy, Mystery, Sh...    4.58        2009.0   \n",
              "4  Action, Fantasy, Horror, Shounen, Dark Fantasy...    4.57        2019.0   \n",
              "\n",
              "   End_year                                        Description  \\\n",
              "0       NaN  'Tanjiro and his friends accompany the Hashira...   \n",
              "1       NaN                  'The final arc of Fruits Basket.'   \n",
              "2       NaN               'The third season of Mo Dao Zu Shi.'   \n",
              "3    2010.0  \"The foundation of alchemy is based on the law...   \n",
              "4       NaN  'The battle to retake Wall Maria begins now! W...   \n",
              "\n",
              "                                     Content_Warning  \\\n",
              "0                                  Explicit Violence   \n",
              "1  Emotional Abuse,, Mature Themes,, Physical Abu...   \n",
              "2                                                NaN   \n",
              "3  Animal Abuse,, Mature Themes,, Violence,, Dome...   \n",
              "4                    Cannibalism,, Explicit Violence   \n",
              "\n",
              "                                       Related_Mange  \\\n",
              "0                     Demon Slayer: Kimetsu no Yaiba   \n",
              "1               Fruits Basket, Fruits Basket Another   \n",
              "2  Grandmaster of Demonic Cultivation: Mo Dao Zu ...   \n",
              "3  Fullmetal Alchemist, Fullmetal Alchemist (Ligh...   \n",
              "4  Attack on Titan, Attack on Titan: End of the W...   \n",
              "\n",
              "                                       Related_anime  \\\n",
              "0  Demon Slayer: Kimetsu no Yaiba, Demon Slayer: ...   \n",
              "1  Fruits Basket 1st Season, Fruits Basket 2nd Se...   \n",
              "2                   Mo Dao Zu Shi 2, Mo Dao Zu Shi Q   \n",
              "3  Fullmetal Alchemist: Brotherhood Specials, Ful...   \n",
              "4  Attack on Titan, Attack on Titan 2nd Season, A...   \n",
              "\n",
              "                                        Voice_actors  \\\n",
              "0  Inosuke Hashibira : Yoshitsugu Matsuoka, Nezuk...   \n",
              "1  Akito Sohma : Maaya Sakamoto, Kyo Sohma : Yuum...   \n",
              "2  Lan Wangji, Wei Wuxian, Jiang Cheng, Jin Guang...   \n",
              "3  Alphonse Elric : Rie Kugimiya, Edward Elric : ...   \n",
              "4  Armin Arlelt : Marina Inoue, Eren Jaeger : Yuu...   \n",
              "\n",
              "                                               staff  \n",
              "0  Koyoharu Gotouge : Original Creator, Haruo Sot...  \n",
              "1  Natsuki Takaya : Original Creator, Yoshihide I...  \n",
              "2  Mo Xiang Tong Xiu : Original Creator, Xiong Ke...  \n",
              "3  Hiromu Arakawa : Original Creator, Yasuhiro Ir...  \n",
              "4  Hajime Isayama : Original Creator, Tetsurou Ar...  "
            ],
            "text/html": [
              "\n",
              "  <div id=\"df-b37e872e-cdf8-49d8-99c4-a8b1e14d6e71\" class=\"colab-df-container\">\n",
              "    <div>\n",
              "<style scoped>\n",
              "    .dataframe tbody tr th:only-of-type {\n",
              "        vertical-align: middle;\n",
              "    }\n",
              "\n",
              "    .dataframe tbody tr th {\n",
              "        vertical-align: top;\n",
              "    }\n",
              "\n",
              "    .dataframe thead th {\n",
              "        text-align: right;\n",
              "    }\n",
              "</style>\n",
              "<table border=\"1\" class=\"dataframe\">\n",
              "  <thead>\n",
              "    <tr style=\"text-align: right;\">\n",
              "      <th></th>\n",
              "      <th>Rank</th>\n",
              "      <th>Name</th>\n",
              "      <th>Japanese_name</th>\n",
              "      <th>Type</th>\n",
              "      <th>Episodes</th>\n",
              "      <th>Studio</th>\n",
              "      <th>Release_season</th>\n",
              "      <th>Tags</th>\n",
              "      <th>Rating</th>\n",
              "      <th>Release_year</th>\n",
              "      <th>End_year</th>\n",
              "      <th>Description</th>\n",
              "      <th>Content_Warning</th>\n",
              "      <th>Related_Mange</th>\n",
              "      <th>Related_anime</th>\n",
              "      <th>Voice_actors</th>\n",
              "      <th>staff</th>\n",
              "    </tr>\n",
              "  </thead>\n",
              "  <tbody>\n",
              "    <tr>\n",
              "      <th>0</th>\n",
              "      <td>1</td>\n",
              "      <td>Demon Slayer: Kimetsu no Yaiba - Entertainment...</td>\n",
              "      <td>Kimetsu no Yaiba: Yuukaku-hen</td>\n",
              "      <td>TV</td>\n",
              "      <td>NaN</td>\n",
              "      <td>ufotable</td>\n",
              "      <td>Fall</td>\n",
              "      <td>Action, Adventure, Fantasy, Shounen, Demons, H...</td>\n",
              "      <td>4.60</td>\n",
              "      <td>2021.0</td>\n",
              "      <td>NaN</td>\n",
              "      <td>'Tanjiro and his friends accompany the Hashira...</td>\n",
              "      <td>Explicit Violence</td>\n",
              "      <td>Demon Slayer: Kimetsu no Yaiba</td>\n",
              "      <td>Demon Slayer: Kimetsu no Yaiba, Demon Slayer: ...</td>\n",
              "      <td>Inosuke Hashibira : Yoshitsugu Matsuoka, Nezuk...</td>\n",
              "      <td>Koyoharu Gotouge : Original Creator, Haruo Sot...</td>\n",
              "    </tr>\n",
              "    <tr>\n",
              "      <th>1</th>\n",
              "      <td>2</td>\n",
              "      <td>Fruits Basket the Final Season</td>\n",
              "      <td>Fruits Basket the Final</td>\n",
              "      <td>TV</td>\n",
              "      <td>13.0</td>\n",
              "      <td>TMS Entertainment</td>\n",
              "      <td>Spring</td>\n",
              "      <td>Drama, Fantasy, Romance, Shoujo, Animal Transf...</td>\n",
              "      <td>4.60</td>\n",
              "      <td>2021.0</td>\n",
              "      <td>NaN</td>\n",
              "      <td>'The final arc of Fruits Basket.'</td>\n",
              "      <td>Emotional Abuse,, Mature Themes,, Physical Abu...</td>\n",
              "      <td>Fruits Basket, Fruits Basket Another</td>\n",
              "      <td>Fruits Basket 1st Season, Fruits Basket 2nd Se...</td>\n",
              "      <td>Akito Sohma : Maaya Sakamoto, Kyo Sohma : Yuum...</td>\n",
              "      <td>Natsuki Takaya : Original Creator, Yoshihide I...</td>\n",
              "    </tr>\n",
              "    <tr>\n",
              "      <th>2</th>\n",
              "      <td>3</td>\n",
              "      <td>Mo Dao Zu Shi 3</td>\n",
              "      <td>The Founder of Diabolism 3</td>\n",
              "      <td>Web</td>\n",
              "      <td>12.0</td>\n",
              "      <td>B.C MAY PICTURES</td>\n",
              "      <td>NaN</td>\n",
              "      <td>Fantasy, Ancient China, Chinese Animation, Cul...</td>\n",
              "      <td>4.58</td>\n",
              "      <td>2021.0</td>\n",
              "      <td>NaN</td>\n",
              "      <td>'The third season of Mo Dao Zu Shi.'</td>\n",
              "      <td>NaN</td>\n",
              "      <td>Grandmaster of Demonic Cultivation: Mo Dao Zu ...</td>\n",
              "      <td>Mo Dao Zu Shi 2, Mo Dao Zu Shi Q</td>\n",
              "      <td>Lan Wangji, Wei Wuxian, Jiang Cheng, Jin Guang...</td>\n",
              "      <td>Mo Xiang Tong Xiu : Original Creator, Xiong Ke...</td>\n",
              "    </tr>\n",
              "    <tr>\n",
              "      <th>3</th>\n",
              "      <td>4</td>\n",
              "      <td>Fullmetal Alchemist: Brotherhood</td>\n",
              "      <td>Hagane no Renkinjutsushi: Full Metal Alchemist</td>\n",
              "      <td>TV</td>\n",
              "      <td>64.0</td>\n",
              "      <td>Bones</td>\n",
              "      <td>Spring</td>\n",
              "      <td>Action, Adventure, Drama, Fantasy, Mystery, Sh...</td>\n",
              "      <td>4.58</td>\n",
              "      <td>2009.0</td>\n",
              "      <td>2010.0</td>\n",
              "      <td>\"The foundation of alchemy is based on the law...</td>\n",
              "      <td>Animal Abuse,, Mature Themes,, Violence,, Dome...</td>\n",
              "      <td>Fullmetal Alchemist, Fullmetal Alchemist (Ligh...</td>\n",
              "      <td>Fullmetal Alchemist: Brotherhood Specials, Ful...</td>\n",
              "      <td>Alphonse Elric : Rie Kugimiya, Edward Elric : ...</td>\n",
              "      <td>Hiromu Arakawa : Original Creator, Yasuhiro Ir...</td>\n",
              "    </tr>\n",
              "    <tr>\n",
              "      <th>4</th>\n",
              "      <td>5</td>\n",
              "      <td>Attack on Titan 3rd Season: Part II</td>\n",
              "      <td>Shingeki no Kyojin Season 3: Part II</td>\n",
              "      <td>TV</td>\n",
              "      <td>10.0</td>\n",
              "      <td>WIT Studio</td>\n",
              "      <td>Spring</td>\n",
              "      <td>Action, Fantasy, Horror, Shounen, Dark Fantasy...</td>\n",
              "      <td>4.57</td>\n",
              "      <td>2019.0</td>\n",
              "      <td>NaN</td>\n",
              "      <td>'The battle to retake Wall Maria begins now! W...</td>\n",
              "      <td>Cannibalism,, Explicit Violence</td>\n",
              "      <td>Attack on Titan, Attack on Titan: End of the W...</td>\n",
              "      <td>Attack on Titan, Attack on Titan 2nd Season, A...</td>\n",
              "      <td>Armin Arlelt : Marina Inoue, Eren Jaeger : Yuu...</td>\n",
              "      <td>Hajime Isayama : Original Creator, Tetsurou Ar...</td>\n",
              "    </tr>\n",
              "  </tbody>\n",
              "</table>\n",
              "</div>\n",
              "    <div class=\"colab-df-buttons\">\n",
              "\n",
              "  <div class=\"colab-df-container\">\n",
              "    <button class=\"colab-df-convert\" onclick=\"convertToInteractive('df-b37e872e-cdf8-49d8-99c4-a8b1e14d6e71')\"\n",
              "            title=\"Convert this dataframe to an interactive table.\"\n",
              "            style=\"display:none;\">\n",
              "\n",
              "  <svg xmlns=\"http://www.w3.org/2000/svg\" height=\"24px\" viewBox=\"0 -960 960 960\">\n",
              "    <path d=\"M120-120v-720h720v720H120Zm60-500h600v-160H180v160Zm220 220h160v-160H400v160Zm0 220h160v-160H400v160ZM180-400h160v-160H180v160Zm440 0h160v-160H620v160ZM180-180h160v-160H180v160Zm440 0h160v-160H620v160Z\"/>\n",
              "  </svg>\n",
              "    </button>\n",
              "\n",
              "  <style>\n",
              "    .colab-df-container {\n",
              "      display:flex;\n",
              "      gap: 12px;\n",
              "    }\n",
              "\n",
              "    .colab-df-convert {\n",
              "      background-color: #E8F0FE;\n",
              "      border: none;\n",
              "      border-radius: 50%;\n",
              "      cursor: pointer;\n",
              "      display: none;\n",
              "      fill: #1967D2;\n",
              "      height: 32px;\n",
              "      padding: 0 0 0 0;\n",
              "      width: 32px;\n",
              "    }\n",
              "\n",
              "    .colab-df-convert:hover {\n",
              "      background-color: #E2EBFA;\n",
              "      box-shadow: 0px 1px 2px rgba(60, 64, 67, 0.3), 0px 1px 3px 1px rgba(60, 64, 67, 0.15);\n",
              "      fill: #174EA6;\n",
              "    }\n",
              "\n",
              "    .colab-df-buttons div {\n",
              "      margin-bottom: 4px;\n",
              "    }\n",
              "\n",
              "    [theme=dark] .colab-df-convert {\n",
              "      background-color: #3B4455;\n",
              "      fill: #D2E3FC;\n",
              "    }\n",
              "\n",
              "    [theme=dark] .colab-df-convert:hover {\n",
              "      background-color: #434B5C;\n",
              "      box-shadow: 0px 1px 3px 1px rgba(0, 0, 0, 0.15);\n",
              "      filter: drop-shadow(0px 1px 2px rgba(0, 0, 0, 0.3));\n",
              "      fill: #FFFFFF;\n",
              "    }\n",
              "  </style>\n",
              "\n",
              "    <script>\n",
              "      const buttonEl =\n",
              "        document.querySelector('#df-b37e872e-cdf8-49d8-99c4-a8b1e14d6e71 button.colab-df-convert');\n",
              "      buttonEl.style.display =\n",
              "        google.colab.kernel.accessAllowed ? 'block' : 'none';\n",
              "\n",
              "      async function convertToInteractive(key) {\n",
              "        const element = document.querySelector('#df-b37e872e-cdf8-49d8-99c4-a8b1e14d6e71');\n",
              "        const dataTable =\n",
              "          await google.colab.kernel.invokeFunction('convertToInteractive',\n",
              "                                                    [key], {});\n",
              "        if (!dataTable) return;\n",
              "\n",
              "        const docLinkHtml = 'Like what you see? Visit the ' +\n",
              "          '<a target=\"_blank\" href=https://colab.research.google.com/notebooks/data_table.ipynb>data table notebook</a>'\n",
              "          + ' to learn more about interactive tables.';\n",
              "        element.innerHTML = '';\n",
              "        dataTable['output_type'] = 'display_data';\n",
              "        await google.colab.output.renderOutput(dataTable, element);\n",
              "        const docLink = document.createElement('div');\n",
              "        docLink.innerHTML = docLinkHtml;\n",
              "        element.appendChild(docLink);\n",
              "      }\n",
              "    </script>\n",
              "  </div>\n",
              "\n",
              "\n",
              "<div id=\"df-51efd528-62fb-4340-a569-4b3938aaad35\">\n",
              "  <button class=\"colab-df-quickchart\" onclick=\"quickchart('df-51efd528-62fb-4340-a569-4b3938aaad35')\"\n",
              "            title=\"Suggest charts\"\n",
              "            style=\"display:none;\">\n",
              "\n",
              "<svg xmlns=\"http://www.w3.org/2000/svg\" height=\"24px\"viewBox=\"0 0 24 24\"\n",
              "     width=\"24px\">\n",
              "    <g>\n",
              "        <path d=\"M19 3H5c-1.1 0-2 .9-2 2v14c0 1.1.9 2 2 2h14c1.1 0 2-.9 2-2V5c0-1.1-.9-2-2-2zM9 17H7v-7h2v7zm4 0h-2V7h2v10zm4 0h-2v-4h2v4z\"/>\n",
              "    </g>\n",
              "</svg>\n",
              "  </button>\n",
              "\n",
              "<style>\n",
              "  .colab-df-quickchart {\n",
              "      --bg-color: #E8F0FE;\n",
              "      --fill-color: #1967D2;\n",
              "      --hover-bg-color: #E2EBFA;\n",
              "      --hover-fill-color: #174EA6;\n",
              "      --disabled-fill-color: #AAA;\n",
              "      --disabled-bg-color: #DDD;\n",
              "  }\n",
              "\n",
              "  [theme=dark] .colab-df-quickchart {\n",
              "      --bg-color: #3B4455;\n",
              "      --fill-color: #D2E3FC;\n",
              "      --hover-bg-color: #434B5C;\n",
              "      --hover-fill-color: #FFFFFF;\n",
              "      --disabled-bg-color: #3B4455;\n",
              "      --disabled-fill-color: #666;\n",
              "  }\n",
              "\n",
              "  .colab-df-quickchart {\n",
              "    background-color: var(--bg-color);\n",
              "    border: none;\n",
              "    border-radius: 50%;\n",
              "    cursor: pointer;\n",
              "    display: none;\n",
              "    fill: var(--fill-color);\n",
              "    height: 32px;\n",
              "    padding: 0;\n",
              "    width: 32px;\n",
              "  }\n",
              "\n",
              "  .colab-df-quickchart:hover {\n",
              "    background-color: var(--hover-bg-color);\n",
              "    box-shadow: 0 1px 2px rgba(60, 64, 67, 0.3), 0 1px 3px 1px rgba(60, 64, 67, 0.15);\n",
              "    fill: var(--button-hover-fill-color);\n",
              "  }\n",
              "\n",
              "  .colab-df-quickchart-complete:disabled,\n",
              "  .colab-df-quickchart-complete:disabled:hover {\n",
              "    background-color: var(--disabled-bg-color);\n",
              "    fill: var(--disabled-fill-color);\n",
              "    box-shadow: none;\n",
              "  }\n",
              "\n",
              "  .colab-df-spinner {\n",
              "    border: 2px solid var(--fill-color);\n",
              "    border-color: transparent;\n",
              "    border-bottom-color: var(--fill-color);\n",
              "    animation:\n",
              "      spin 1s steps(1) infinite;\n",
              "  }\n",
              "\n",
              "  @keyframes spin {\n",
              "    0% {\n",
              "      border-color: transparent;\n",
              "      border-bottom-color: var(--fill-color);\n",
              "      border-left-color: var(--fill-color);\n",
              "    }\n",
              "    20% {\n",
              "      border-color: transparent;\n",
              "      border-left-color: var(--fill-color);\n",
              "      border-top-color: var(--fill-color);\n",
              "    }\n",
              "    30% {\n",
              "      border-color: transparent;\n",
              "      border-left-color: var(--fill-color);\n",
              "      border-top-color: var(--fill-color);\n",
              "      border-right-color: var(--fill-color);\n",
              "    }\n",
              "    40% {\n",
              "      border-color: transparent;\n",
              "      border-right-color: var(--fill-color);\n",
              "      border-top-color: var(--fill-color);\n",
              "    }\n",
              "    60% {\n",
              "      border-color: transparent;\n",
              "      border-right-color: var(--fill-color);\n",
              "    }\n",
              "    80% {\n",
              "      border-color: transparent;\n",
              "      border-right-color: var(--fill-color);\n",
              "      border-bottom-color: var(--fill-color);\n",
              "    }\n",
              "    90% {\n",
              "      border-color: transparent;\n",
              "      border-bottom-color: var(--fill-color);\n",
              "    }\n",
              "  }\n",
              "</style>\n",
              "\n",
              "  <script>\n",
              "    async function quickchart(key) {\n",
              "      const quickchartButtonEl =\n",
              "        document.querySelector('#' + key + ' button');\n",
              "      quickchartButtonEl.disabled = true;  // To prevent multiple clicks.\n",
              "      quickchartButtonEl.classList.add('colab-df-spinner');\n",
              "      try {\n",
              "        const charts = await google.colab.kernel.invokeFunction(\n",
              "            'suggestCharts', [key], {});\n",
              "      } catch (error) {\n",
              "        console.error('Error during call to suggestCharts:', error);\n",
              "      }\n",
              "      quickchartButtonEl.classList.remove('colab-df-spinner');\n",
              "      quickchartButtonEl.classList.add('colab-df-quickchart-complete');\n",
              "    }\n",
              "    (() => {\n",
              "      let quickchartButtonEl =\n",
              "        document.querySelector('#df-51efd528-62fb-4340-a569-4b3938aaad35 button');\n",
              "      quickchartButtonEl.style.display =\n",
              "        google.colab.kernel.accessAllowed ? 'block' : 'none';\n",
              "    })();\n",
              "  </script>\n",
              "</div>\n",
              "\n",
              "    </div>\n",
              "  </div>\n"
            ],
            "application/vnd.google.colaboratory.intrinsic+json": {
              "type": "dataframe",
              "variable_name": "data",
              "summary": "{\n  \"name\": \"data\",\n  \"rows\": 18495,\n  \"fields\": [\n    {\n      \"column\": \"Rank\",\n      \"properties\": {\n        \"dtype\": \"number\",\n        \"std\": 5339,\n        \"min\": 1,\n        \"max\": 18495,\n        \"num_unique_values\": 18495,\n        \"samples\": [\n          3434,\n          4038,\n          10932\n        ],\n        \"semantic_type\": \"\",\n        \"description\": \"\"\n      }\n    },\n    {\n      \"column\": \"Name\",\n      \"properties\": {\n        \"dtype\": \"string\",\n        \"num_unique_values\": 18443,\n        \"samples\": [\n          \"Cardfight!! Vanguard: Asia Circuit\",\n          \"Eve: Kokoro Yohou\",\n          \"Reset\"\n        ],\n        \"semantic_type\": \"\",\n        \"description\": \"\"\n      }\n    },\n    {\n      \"column\": \"Japanese_name\",\n      \"properties\": {\n        \"dtype\": \"category\",\n        \"num_unique_values\": 7902,\n        \"samples\": [\n          \" New Dream Hunter Rem: The Knights Around Her Bed\",\n          \" Minna no Uta: Katsuobushi Da yo Jinsei wa\",\n          \" Soukyuu no Fafner: Dead Aggressor - Exodus\"\n        ],\n        \"semantic_type\": \"\",\n        \"description\": \"\"\n      }\n    },\n    {\n      \"column\": \"Type\",\n      \"properties\": {\n        \"dtype\": \"category\",\n        \"num_unique_values\": 8,\n        \"samples\": [\n          \"Web  \",\n          \"TV Sp\",\n          \"TV   \"\n        ],\n        \"semantic_type\": \"\",\n        \"description\": \"\"\n      }\n    },\n    {\n      \"column\": \"Episodes\",\n      \"properties\": {\n        \"dtype\": \"number\",\n        \"std\": 37.99085829031257,\n        \"min\": 1.0,\n        \"max\": 800.0,\n        \"num_unique_values\": 205,\n        \"samples\": [\n          39.0,\n          1.0,\n          46.0\n        ],\n        \"semantic_type\": \"\",\n        \"description\": \"\"\n      }\n    },\n    {\n      \"column\": \"Studio\",\n      \"properties\": {\n        \"dtype\": \"category\",\n        \"num_unique_values\": 745,\n        \"samples\": [\n          \"Shirogumi\",\n          \"Ankama Animations\",\n          \"Hoods Entertainment\"\n        ],\n        \"semantic_type\": \"\",\n        \"description\": \"\"\n      }\n    },\n    {\n      \"column\": \"Release_season\",\n      \"properties\": {\n        \"dtype\": \"category\",\n        \"num_unique_values\": 4,\n        \"samples\": [\n          \"Spring\",\n          \"Summer\",\n          \"Fall \"\n        ],\n        \"semantic_type\": \"\",\n        \"description\": \"\"\n      }\n    },\n    {\n      \"column\": \"Tags\",\n      \"properties\": {\n        \"dtype\": \"string\",\n        \"num_unique_values\": 11799,\n        \"samples\": [\n          \"Comedy, Sci Fi, Card Battles, Family Friendly, School Life, Based on a Card Game\",\n          \"Action, Adventure, Comedy, Mecha, Sci Fi, Combining Mecha, Recap, Super Robot, Original Work\",\n          \"Action, Seinen, Feudal Japan, Historical, Samurai, Based on a Manga, Mature Themes,, Physical Abuse,, Sexual Abuse,, Violence\"\n        ],\n        \"semantic_type\": \"\",\n        \"description\": \"\"\n      }\n    },\n    {\n      \"column\": \"Rating\",\n      \"properties\": {\n        \"dtype\": \"number\",\n        \"std\": 0.4006236293573667,\n        \"min\": 0.96,\n        \"max\": 4.6,\n        \"num_unique_values\": 289,\n        \"samples\": [\n          4.11,\n          2.99,\n          1.71\n        ],\n        \"semantic_type\": \"\",\n        \"description\": \"\"\n      }\n    },\n    {\n      \"column\": \"Release_year\",\n      \"properties\": {\n        \"dtype\": \"number\",\n        \"std\": 15.189536564200429,\n        \"min\": 1907.0,\n        \"max\": 2023.0,\n        \"num_unique_values\": 103,\n        \"samples\": [\n          1986.0,\n          1956.0,\n          1963.0\n        ],\n        \"semantic_type\": \"\",\n        \"description\": \"\"\n      }\n    },\n    {\n      \"column\": \"End_year\",\n      \"properties\": {\n        \"dtype\": \"number\",\n        \"std\": 13.257483620861136,\n        \"min\": 1962.0,\n        \"max\": 2022.0,\n        \"num_unique_values\": 60,\n        \"samples\": [\n          2010.0,\n          2013.0,\n          1986.0\n        ],\n        \"semantic_type\": \"\",\n        \"description\": \"\"\n      }\n    },\n    {\n      \"column\": \"Description\",\n      \"properties\": {\n        \"dtype\": \"string\",\n        \"num_unique_values\": 10012,\n        \"samples\": [\n          \"\\\"Guu and crew are back! This time\\\\xa0Har\\u00e9 has to survive in a whole new jungle: school in the city! After Har\\u00e9's mom drags him back to visit his grandmother again, his scheme to talk her into heading back to the jungle lands him in school instead. He hates it, of course, and would much rather be back in the village school. That is, until he meets Rita -- blond, cute and an absolute angel! Well, nearly absolute. Will\\\\xa0Har\\u00e9 ever want to return to the jungle? And what about poor sweet Mari, back home? Either way, Guu is sure to make it a bumpy ride!\\\"\",\n          \"One day, at the beginning of his second semester, Makoto Itou fell for a girl he saw on the train; but as he's\\u00a0too nervous to approach her, the teenager is content with watching her from afar. However, following a seating change in class, Makoto meets Sekai, who soon learns of his secret crush. After teasing him for a while, the energetic teen decides to help Makoto in his romance by introducing him to the girl of his dreams, Kotonoha...\",\n          \"'In junior high school, Toshihiko Tanaka, Kenji Shiraishi, and Kazuhiro Hiramatsu played soccer together and were known as the Golden Trio. As freshmen, the friends decided to enter Kakegawa High School together to be on the same team as Kubo, who became legendary after propelling their newly-founded team to the best eight the previous year. Can they improve their teamwork and individual play to make it all the way to the championship? Together they struggle through the best and worst times of their lives while desperately aiming to reach their dream.'\"\n        ],\n        \"semantic_type\": \"\",\n        \"description\": \"\"\n      }\n    },\n    {\n      \"column\": \"Content_Warning\",\n      \"properties\": {\n        \"dtype\": \"category\",\n        \"num_unique_values\": 208,\n        \"samples\": [\n          \"Explicit Violence,, Mature Themes,, Sexual Content\",\n          \"Drug Use,, Mature Themes,, Physical Abuse,, Prostitution,, Sexual Abuse,, Violence\",\n          \"Emotional Abuse,, Explicit Violence,, Mature Themes,, Suicide\"\n        ],\n        \"semantic_type\": \"\",\n        \"description\": \"\"\n      }\n    },\n    {\n      \"column\": \"Related_Mange\",\n      \"properties\": {\n        \"dtype\": \"category\",\n        \"num_unique_values\": 4151,\n        \"samples\": [\n          \"Higurashi When They Cry: Abducted By Demons Arc, Higurashi When They Cry: Demon Exposing Arc, Higurashi When They Cry: Cotton Drifting Arc, Higurashi When They Cry: Curse Killing Arc, Higurashi no Naku Koro ni Kataribanashi-hen, Higurashi When They Cry: Beyond Midnight Arc, Higurashi When They Cry: Atonement Arc, Higurashi When They Cry: Time Killing Arc, Higurashi When They Cry: Eye Opening Arc, Higurashi When They Cry: Festival Accompanying Arc, Higurashi When They Cry: Massacre Arc, Higurashi no Naku Koro ni: Hirukowashi-hen, Higurashi no Naku Koro ni Jan, Umineko: When They Cry Episode X, Higurashi no Naku Koro ni Jan: Tsubamegaeshi-hen, Umineko no Naku Koro ni Tsubasa, Higurashi When They Cry: Dice Killing Arc, Higurashi When They Cry: Wonderful\",\n          \"Aoashi\",\n          \"Daphne in the Brilliant Blue\"\n        ],\n        \"semantic_type\": \"\",\n        \"description\": \"\"\n      }\n    },\n    {\n      \"column\": \"Related_anime\",\n      \"properties\": {\n        \"dtype\": \"string\",\n        \"num_unique_values\": 9451,\n        \"samples\": [\n          \"Meng Ta Xue Mi Cheng\",\n          \"Hayate the Combat Butler!, Hayate the Combat Butler!!, Hayate the Combat Butler! Heaven is a Place on Earth, Hayate the Combat Butler! Can't Take My Eyes Off You, Hayate the Combat Butler! Cuties, Hayate the Combat Butler! (2014)\",\n          \"Selector Infected WIXOSS, Selector Spread WIXOSS, Selector Destructed WIXOSS, Lostorage Incited WIXOSS, Lostorage Conflated WIXOSS: Missing Link, Lostorage Conflated WIXOSS\"\n        ],\n        \"semantic_type\": \"\",\n        \"description\": \"\"\n      }\n    },\n    {\n      \"column\": \"Voice_actors\",\n      \"properties\": {\n        \"dtype\": \"string\",\n        \"num_unique_values\": 13615,\n        \"samples\": [\n          \"Kadoc Zemlupus : Kenji Akabane, Caster, Alter Ego, Avenger, Berserker, Caster Of Black, Mash Kyrielight, Patxi\",\n          \"Kei Yoshimizu\\nDirector, Noriyuki Nakamura\\nDirector, Hiroshi Igarashi\\nMusic, Rumparo Tita\\nCharacter Design\",\n          \"Gintoki Sakata : Tomokazu Sugita, Kagura : Rie Kugimiya, Shinpachi Shimura : Daisuke Sakaguchi, Elizabeth, Isao Kondo, Kotarou Katsura, Sougo Okita, Toshiro Hijikata\"\n        ],\n        \"semantic_type\": \"\",\n        \"description\": \"\"\n      }\n    },\n    {\n      \"column\": \"staff\",\n      \"properties\": {\n        \"dtype\": \"string\",\n        \"num_unique_values\": 10559,\n        \"samples\": [\n          \"Yu-Ko Osada : Original Creator, Masashi Abe : Director, Shinya Naito : Music, Kazuhiro Ishikawa : Music, Hirotaka Marufuji : Character Design, Hisato Usui : Producer, Kazuo Oonuki : Producer, Kouta Naka : Producer\",\n          \"Yu Sasuga : Original Creator, Hiroshi Hamasaki : Director, Shuusei Murai : Music, Masanori Shino : Character Design, Satoshi Kimura : Character Design, Hiroyuki Oomori : Producer, Satoshi Tanaka : Producer, Shinya Shinozaki : Producer\",\n          \"Shinji Takamatsu : Director, Hiroyuki Kawasaki : Screenplay & Series Composition, Yasunori Iwasaki : Music, Atsuko Ishida : Character Design, Shinichi Watanabe : Episode Director & Storyboard, Kazuhito Kikuchi : Storyboard, Masaharu Amiya : Screenplay, Sawako Yamamoto : Animation Director\"\n        ],\n        \"semantic_type\": \"\",\n        \"description\": \"\"\n      }\n    }\n  ]\n}"
            }
          },
          "metadata": {},
          "execution_count": 7
        }
      ]
    },
    {
      "cell_type": "code",
      "source": [
        "data.isnull().sum()"
      ],
      "metadata": {
        "colab": {
          "base_uri": "https://localhost:8080/",
          "height": 486
        },
        "id": "XbjurJPqk0zr",
        "outputId": "cee8a815-1fff-4995-b9ad-3bf97273ce72"
      },
      "execution_count": 14,
      "outputs": [
        {
          "output_type": "execute_result",
          "data": {
            "text/plain": [
              "Rank                   0\n",
              "Name                   0\n",
              "Japanese_name          0\n",
              "Type                   0\n",
              "Episodes               0\n",
              "Studio                 0\n",
              "Release_season         0\n",
              "Tags                   0\n",
              "Rating                 0\n",
              "Release_year         383\n",
              "End_year           15641\n",
              "Description            0\n",
              "Content_Warning        0\n",
              "dtype: int64"
            ],
            "text/html": [
              "<div>\n",
              "<style scoped>\n",
              "    .dataframe tbody tr th:only-of-type {\n",
              "        vertical-align: middle;\n",
              "    }\n",
              "\n",
              "    .dataframe tbody tr th {\n",
              "        vertical-align: top;\n",
              "    }\n",
              "\n",
              "    .dataframe thead th {\n",
              "        text-align: right;\n",
              "    }\n",
              "</style>\n",
              "<table border=\"1\" class=\"dataframe\">\n",
              "  <thead>\n",
              "    <tr style=\"text-align: right;\">\n",
              "      <th></th>\n",
              "      <th>0</th>\n",
              "    </tr>\n",
              "  </thead>\n",
              "  <tbody>\n",
              "    <tr>\n",
              "      <th>Rank</th>\n",
              "      <td>0</td>\n",
              "    </tr>\n",
              "    <tr>\n",
              "      <th>Name</th>\n",
              "      <td>0</td>\n",
              "    </tr>\n",
              "    <tr>\n",
              "      <th>Japanese_name</th>\n",
              "      <td>0</td>\n",
              "    </tr>\n",
              "    <tr>\n",
              "      <th>Type</th>\n",
              "      <td>0</td>\n",
              "    </tr>\n",
              "    <tr>\n",
              "      <th>Episodes</th>\n",
              "      <td>0</td>\n",
              "    </tr>\n",
              "    <tr>\n",
              "      <th>Studio</th>\n",
              "      <td>0</td>\n",
              "    </tr>\n",
              "    <tr>\n",
              "      <th>Release_season</th>\n",
              "      <td>0</td>\n",
              "    </tr>\n",
              "    <tr>\n",
              "      <th>Tags</th>\n",
              "      <td>0</td>\n",
              "    </tr>\n",
              "    <tr>\n",
              "      <th>Rating</th>\n",
              "      <td>0</td>\n",
              "    </tr>\n",
              "    <tr>\n",
              "      <th>Release_year</th>\n",
              "      <td>383</td>\n",
              "    </tr>\n",
              "    <tr>\n",
              "      <th>End_year</th>\n",
              "      <td>15641</td>\n",
              "    </tr>\n",
              "    <tr>\n",
              "      <th>Description</th>\n",
              "      <td>0</td>\n",
              "    </tr>\n",
              "    <tr>\n",
              "      <th>Content_Warning</th>\n",
              "      <td>0</td>\n",
              "    </tr>\n",
              "  </tbody>\n",
              "</table>\n",
              "</div><br><label><b>dtype:</b> int64</label>"
            ]
          },
          "metadata": {},
          "execution_count": 14
        }
      ]
    },
    {
      "cell_type": "code",
      "source": [
        "data.info()"
      ],
      "metadata": {
        "colab": {
          "base_uri": "https://localhost:8080/"
        },
        "id": "WMnez-fUlWe3",
        "outputId": "d3edcd3d-48db-4c7b-f2ab-cc545239dc56"
      },
      "execution_count": 8,
      "outputs": [
        {
          "output_type": "stream",
          "name": "stdout",
          "text": [
            "<class 'pandas.core.frame.DataFrame'>\n",
            "RangeIndex: 17002 entries, 0 to 17001\n",
            "Data columns (total 15 columns):\n",
            " #   Column      Non-Null Count  Dtype  \n",
            "---  ------      --------------  -----  \n",
            " 0   Anime_id    17002 non-null  int64  \n",
            " 1   Title       17002 non-null  object \n",
            " 2   Genre       14990 non-null  object \n",
            " 3   Synopsis    15583 non-null  object \n",
            " 4   Type        16368 non-null  object \n",
            " 5   Producer    7635 non-null   object \n",
            " 6   Studio      7919 non-null   object \n",
            " 7   Rating      14425 non-null  float64\n",
            " 8   ScoredBy    13227 non-null  float64\n",
            " 9   Popularity  16368 non-null  float64\n",
            " 10  Members     17002 non-null  float64\n",
            " 11  Episodes    14085 non-null  float64\n",
            " 12  Source      15075 non-null  object \n",
            " 13  Aired       16368 non-null  object \n",
            " 14  Link        16368 non-null  object \n",
            "dtypes: float64(5), int64(1), object(9)\n",
            "memory usage: 1.9+ MB\n"
          ]
        }
      ]
    },
    {
      "cell_type": "code",
      "source": [
        "data.columns"
      ],
      "metadata": {
        "colab": {
          "base_uri": "https://localhost:8080/"
        },
        "id": "KtTIJxXznfZE",
        "outputId": "48c436d8-cfc2-40d9-8165-8075289d5d0c"
      },
      "execution_count": 10,
      "outputs": [
        {
          "output_type": "execute_result",
          "data": {
            "text/plain": [
              "Index(['Rank', 'Name', 'Japanese_name', 'Type', 'Episodes', 'Studio',\n",
              "       'Release_season', 'Tags', 'Rating', 'Release_year', 'End_year',\n",
              "       'Description', 'Content_Warning', 'Related_Mange', 'Related_anime',\n",
              "       'Voice_actors', 'staff'],\n",
              "      dtype='object')"
            ]
          },
          "metadata": {},
          "execution_count": 10
        }
      ]
    },
    {
      "cell_type": "code",
      "source": [
        "data.Tags[1]"
      ],
      "metadata": {
        "colab": {
          "base_uri": "https://localhost:8080/",
          "height": 52
        },
        "id": "HitNXeAvr1bp",
        "outputId": "49ff127e-fb2a-4c15-a8aa-8d0d47ef5a38"
      },
      "execution_count": 26,
      "outputs": [
        {
          "output_type": "execute_result",
          "data": {
            "text/plain": [
              "'Drama, Fantasy, Romance, Shoujo, Animal Transformation, Contemporary Fantasy, Curse, Dysfunctional Families, Mental Illness, Orphans, Based on a Manga, Emotional Abuse,, Mature Themes,, Physical Abuse,, Suicide,, Violence,, Domestic Abuse'"
            ],
            "application/vnd.google.colaboratory.intrinsic+json": {
              "type": "string"
            }
          },
          "metadata": {},
          "execution_count": 26
        }
      ]
    },
    {
      "cell_type": "code",
      "source": [
        "data.dropna(inplace=True)"
      ],
      "metadata": {
        "id": "jUUcpQhzlawv"
      },
      "execution_count": 9,
      "outputs": []
    },
    {
      "cell_type": "code",
      "source": [
        "data.shape"
      ],
      "metadata": {
        "colab": {
          "base_uri": "https://localhost:8080/"
        },
        "id": "yl10DpxslfQD",
        "outputId": "d2fa564d-b3b4-4090-b80f-50db80cc87fe"
      },
      "execution_count": 11,
      "outputs": [
        {
          "output_type": "execute_result",
          "data": {
            "text/plain": [
              "(4479, 15)"
            ]
          },
          "metadata": {},
          "execution_count": 11
        }
      ]
    },
    {
      "cell_type": "code",
      "source": [
        "data['Japanese_name'] = data['Japanese_name'].fillna('Unknown')\n",
        "data['Tags'] = data['Tags'].fillna('Not Available')\n",
        "data['Studio'] = data['Studio'].fillna('Unknown')\n",
        "data['Release_season'] = data['Release_season'].fillna('Unknown')\n",
        "data['Description'] = data['Description'].fillna('No description available')\n",
        "data['Rating'] = data['Rating'].fillna(data['Rating'].mean())\n",
        "data['Episodes'] = data['Episodes'].fillna(data['Episodes'].median())\n",
        "data['Content_Warning'] = data['Content_Warning'].fillna('Not Specified')\n",
        "\n",
        "# Drop irrelevant or highly missing columns (e.g., 'Related_Mange', 'Related_anime')\n",
        "data = data.drop(columns=['Related_Mange', 'Related_anime', 'Voice_actors', 'staff'], errors='ignore')\n",
        "\n",
        "# Remove rows with critical missing values\n",
        "data = data.dropna(subset=['Rating', 'Description'])\n",
        "\n",
        "# Check the shape and cleaned data\n",
        "print(\"Cleaned Data Shape:\", data.shape)\n",
        "print(data.head())"
      ],
      "metadata": {
        "colab": {
          "base_uri": "https://localhost:8080/"
        },
        "id": "pCnhjX9alg3Y",
        "outputId": "1496b4e3-f364-4fd1-b914-1521997ff2d8"
      },
      "execution_count": 11,
      "outputs": [
        {
          "output_type": "stream",
          "name": "stdout",
          "text": [
            "Cleaned Data Shape: (18495, 13)\n",
            "   Rank                                               Name  \\\n",
            "0     1  Demon Slayer: Kimetsu no Yaiba - Entertainment...   \n",
            "1     2                     Fruits Basket the Final Season   \n",
            "2     3                                    Mo Dao Zu Shi 3   \n",
            "3     4                   Fullmetal Alchemist: Brotherhood   \n",
            "4     5                Attack on Titan 3rd Season: Part II   \n",
            "\n",
            "                                     Japanese_name   Type  Episodes  \\\n",
            "0                    Kimetsu no Yaiba: Yuukaku-hen  TV         12.0   \n",
            "1                          Fruits Basket the Final  TV         13.0   \n",
            "2                       The Founder of Diabolism 3  Web        12.0   \n",
            "3   Hagane no Renkinjutsushi: Full Metal Alchemist  TV         64.0   \n",
            "4             Shingeki no Kyojin Season 3: Part II  TV         10.0   \n",
            "\n",
            "              Studio Release_season  \\\n",
            "0           ufotable          Fall    \n",
            "1  TMS Entertainment         Spring   \n",
            "2   B.C MAY PICTURES        Unknown   \n",
            "3              Bones         Spring   \n",
            "4         WIT Studio         Spring   \n",
            "\n",
            "                                                Tags  Rating  Release_year  \\\n",
            "0  Action, Adventure, Fantasy, Shounen, Demons, H...    4.60        2021.0   \n",
            "1  Drama, Fantasy, Romance, Shoujo, Animal Transf...    4.60        2021.0   \n",
            "2  Fantasy, Ancient China, Chinese Animation, Cul...    4.58        2021.0   \n",
            "3  Action, Adventure, Drama, Fantasy, Mystery, Sh...    4.58        2009.0   \n",
            "4  Action, Fantasy, Horror, Shounen, Dark Fantasy...    4.57        2019.0   \n",
            "\n",
            "   End_year                                        Description  \\\n",
            "0       NaN  'Tanjiro and his friends accompany the Hashira...   \n",
            "1       NaN                  'The final arc of Fruits Basket.'   \n",
            "2       NaN               'The third season of Mo Dao Zu Shi.'   \n",
            "3    2010.0  \"The foundation of alchemy is based on the law...   \n",
            "4       NaN  'The battle to retake Wall Maria begins now! W...   \n",
            "\n",
            "                                     Content_Warning  \n",
            "0                                  Explicit Violence  \n",
            "1  Emotional Abuse,, Mature Themes,, Physical Abu...  \n",
            "2                                      Not Specified  \n",
            "3  Animal Abuse,, Mature Themes,, Violence,, Dome...  \n",
            "4                    Cannibalism,, Explicit Violence  \n"
          ]
        }
      ]
    },
    {
      "cell_type": "code",
      "source": [
        "data = data.drop(columns=['End_year'])"
      ],
      "metadata": {
        "id": "5r3WDj5mn_Cz"
      },
      "execution_count": 15,
      "outputs": []
    },
    {
      "cell_type": "code",
      "source": [
        "def get_anime_recommendations(preferences, data):\n",
        "\n",
        "    filtered_data = data.copy()\n",
        "\n",
        "    # Loop through each preference and filter the data accordingly\n",
        "    for feature, value in preferences.items():\n",
        "        if value:  # Only proceed if a preference is provided\n",
        "            if feature == 'Rating':  # Filter by minimum rating\n",
        "                filtered_data = filtered_data[filtered_data[feature] >= value]\n",
        "            elif feature == 'Episodes':  # Filter by minimum number of episodes\n",
        "                filtered_data = filtered_data[filtered_data[feature] >= value]\n",
        "            elif feature == 'Release_year':  # Filter by release year\n",
        "                filtered_data = filtered_data[filtered_data[feature] == value]\n",
        "            elif feature == 'Tags':  # Filter by tags (genre)\n",
        "                # Ensure tags are split by commas and check if the tag exists\n",
        "                filtered_data = filtered_data[filtered_data[feature].str.contains(value, case=False, na=False)]\n",
        "            elif feature == 'Name':  # Filter by name (title)\n",
        "                filtered_data = filtered_data[filtered_data[feature].str.contains(value, case=False, na=False)]\n",
        "\n",
        "    return filtered_data\n",
        "\n",
        "# Example: Define user preferences for anime recommendations\n",
        "preferences = {\n",
        "    'Rating': 4.0,  # Minimum rating of 8\n",
        "    'Episodes': 24,  # At least 24 episodes\n",
        "    'Tags': 'Action',  # Action genre (tags)\n",
        "    'Studio': 'Sunrise'  # Example of filtering by title\n",
        "}\n",
        "\n",
        "# Get recommendations based on the preferences\n",
        "recommendations = get_anime_recommendations(preferences, data)\n",
        "\n",
        "# Display the filtered recommendations\n",
        "print(f\"Recommended Anime: {recommendations[['Name', 'Rating', 'Episodes', 'Tags', 'Studio']].head()}\")\n"
      ],
      "metadata": {
        "colab": {
          "base_uri": "https://localhost:8080/"
        },
        "id": "K6no60KKoIRK",
        "outputId": "3f40ea6e-a96f-484e-c2c5-daeb54a71133"
      },
      "execution_count": 32,
      "outputs": [
        {
          "output_type": "stream",
          "name": "stdout",
          "text": [
            "Recommended Anime:                                 Name  Rating  Episodes  \\\n",
            "3   Fullmetal Alchemist: Brotherhood    4.58      64.0   \n",
            "5                     Jujutsu Kaisen    4.56      24.0   \n",
            "12    Demon Slayer: Kimetsu no Yaiba    4.51      26.0   \n",
            "13            Hunter x Hunter (2011)    4.51     148.0   \n",
            "37                       Banana Fish    4.44      24.0   \n",
            "\n",
            "                                                 Tags    Studio  \n",
            "3   Action, Adventure, Drama, Fantasy, Mystery, Sh...     Bones  \n",
            "5   Action, Horror, Shounen, Curse, Exorcists, Mon...     MAPPA  \n",
            "12  Action, Adventure, Comedy, Drama, Fantasy, Sho...  ufotable  \n",
            "13  Action, Adventure, Drama, Fantasy, Shounen, Mo...  MADHOUSE  \n",
            "37  Action, Drama, Shoujo, America, Criminals, Gan...     MAPPA  \n"
          ]
        }
      ]
    },
    {
      "cell_type": "code",
      "source": [],
      "metadata": {
        "id": "S3pEZcSVoWgt"
      },
      "execution_count": null,
      "outputs": []
    }
  ]
}