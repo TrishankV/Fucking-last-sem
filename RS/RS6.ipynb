{
  "nbformat": 4,
  "nbformat_minor": 0,
  "metadata": {
    "colab": {
      "provenance": [],
      "gpuType": "V28"
    },
    "kernelspec": {
      "name": "python3",
      "display_name": "Python 3"
    },
    "language_info": {
      "name": "python"
    },
    "accelerator": "TPU"
  },
  "cells": [
    {
      "cell_type": "code",
      "source": [
        "!kaggle datasets download grouplens/movielens-20m-dataset"
      ],
      "metadata": {
        "colab": {
          "base_uri": "https://localhost:8080/"
        },
        "id": "y2TH0_d8J4Wj",
        "outputId": "1b85ba93-0244-4742-959c-e551ccd1f95d"
      },
      "execution_count": 1,
      "outputs": [
        {
          "output_type": "stream",
          "name": "stdout",
          "text": [
            "Dataset URL: https://www.kaggle.com/datasets/grouplens/movielens-20m-dataset\n",
            "License(s): unknown\n",
            "Downloading movielens-20m-dataset.zip to /content\n",
            " 92% 180M/195M [00:00<00:00, 268MB/s]\n",
            "100% 195M/195M [00:00<00:00, 256MB/s]\n"
          ]
        }
      ]
    },
    {
      "cell_type": "code",
      "source": [
        "\n",
        "import zipfile\n",
        "import os\n",
        "\n",
        "!kaggle datasets download grouplens/movielens-20m-dataset\n",
        "\n",
        "# Assuming the zip file is named 'movielens-20m-dataset.zip'\n",
        "# Replace with the actual filename if it's different\n",
        "zip_file_name = 'movielens-20m-dataset.zip'\n",
        "\n",
        "# Specify the directory where you want to extract the files\n",
        "extract_dir = 'movielens-20m'  # Or any other name you prefer\n",
        "\n",
        "with zipfile.ZipFile(zip_file_name, 'r') as zip_ref:\n",
        "    zip_ref.extractall(extract_dir)\n",
        "\n",
        "print(f\"Files extracted to: {extract_dir}\")\n"
      ],
      "metadata": {
        "colab": {
          "base_uri": "https://localhost:8080/"
        },
        "id": "AT8P2ra8KHY2",
        "outputId": "a519363d-9db0-471e-a73c-6a48bfb24b40"
      },
      "execution_count": 2,
      "outputs": [
        {
          "output_type": "stream",
          "name": "stdout",
          "text": [
            "Dataset URL: https://www.kaggle.com/datasets/grouplens/movielens-20m-dataset\n",
            "License(s): unknown\n",
            "movielens-20m-dataset.zip: Skipping, found more recently modified local copy (use --force to force download)\n",
            "Files extracted to: movielens-20m\n"
          ]
        }
      ]
    },
    {
      "cell_type": "code",
      "source": [
        "!pip install surprise --quiet"
      ],
      "metadata": {
        "colab": {
          "base_uri": "https://localhost:8080/"
        },
        "id": "SE3Mt3wTKZLB",
        "outputId": "e940326b-a185-4d48-fe57-fcaeae5fb7f0"
      },
      "execution_count": 3,
      "outputs": [
        {
          "output_type": "stream",
          "name": "stdout",
          "text": [
            "\u001b[?25l     \u001b[90m━━━━━━━━━━━━━━━━━━━━━━━━━━━━━━━━━━━━━━━━\u001b[0m \u001b[32m0.0/154.4 kB\u001b[0m \u001b[31m?\u001b[0m eta \u001b[36m-:--:--\u001b[0m\r\u001b[2K     \u001b[91m━━━━━━━━━━━━━━━━━━━━━━━━━━━━━━━━━━━━━━━\u001b[0m\u001b[91m╸\u001b[0m \u001b[32m153.6/154.4 kB\u001b[0m \u001b[31m4.7 MB/s\u001b[0m eta \u001b[36m0:00:01\u001b[0m\r\u001b[2K     \u001b[90m━━━━━━━━━━━━━━━━━━━━━━━━━━━━━━━━━━━━━━━━\u001b[0m \u001b[32m154.4/154.4 kB\u001b[0m \u001b[31m3.5 MB/s\u001b[0m eta \u001b[36m0:00:00\u001b[0m\n",
            "\u001b[?25h  Installing build dependencies ... \u001b[?25l\u001b[?25hdone\n",
            "  Getting requirements to build wheel ... \u001b[?25l\u001b[?25hdone\n",
            "  Preparing metadata (pyproject.toml) ... \u001b[?25l\u001b[?25hdone\n",
            "  Building wheel for scikit-surprise (pyproject.toml) ... \u001b[?25l\u001b[?25hdone\n"
          ]
        }
      ]
    },
    {
      "cell_type": "code",
      "execution_count": 4,
      "metadata": {
        "colab": {
          "base_uri": "https://localhost:8080/"
        },
        "id": "vxar-j78HUzG",
        "outputId": "bef4a0b2-1dc8-4dfd-ec5c-0edeb10148cf"
      },
      "outputs": [
        {
          "output_type": "stream",
          "name": "stdout",
          "text": [
            "Hybrid Predicted Rating: 3.84\n"
          ]
        }
      ],
      "source": [
        "import pandas as pd\n",
        "import numpy as np\n",
        "from surprise import SVD, Dataset, Reader\n",
        "from sklearn.feature_extraction.text import TfidfVectorizer\n",
        "from sklearn.metrics.pairwise import cosine_similarity\n",
        "\n",
        "# Load datasets\n",
        "ratings = pd.read_csv(\"/content/movielens-20m/rating.csv\")\n",
        "movies = pd.read_csv(\"/content/movielens-20m/movie.csv\")\n",
        "tags = pd.read_csv(\"/content/movielens-20m/genome_tags.csv\")\n",
        "tag_names = pd.read_csv(\"/content/movielens-20m/genome_scores.csv\")\n",
        "\n",
        "# Merge tags and compute TF-IDF for content-based filtering\n",
        "tags = tags.merge(tag_names, on=\"tagId\", how=\"left\")\n",
        "movie_tags = tags.groupby(\"movieId\")[\"tag\"].apply(lambda x: \" \".join(x)).reset_index()\n",
        "\n",
        "# Merge with movie metadata\n",
        "movies = movies.merge(movie_tags, on=\"movieId\", how=\"left\").fillna(\"\")\n",
        "\n",
        "# Content-Based Filtering (CBF) - Compute Movie Similarity\n",
        "tfidf = TfidfVectorizer(stop_words=\"english\")\n",
        "movie_tfidf_matrix = tfidf.fit_transform(movies[\"tag\"])\n",
        "cosine_sim = cosine_similarity(movie_tfidf_matrix, movie_tfidf_matrix)\n",
        "\n",
        "# Collaborative Filtering (CF) - Train an SVD Model\n",
        "reader = Reader(rating_scale=(0.5, 5.0))\n",
        "data = Dataset.load_from_df(ratings[[\"userId\", \"movieId\", \"rating\"]], reader)\n",
        "trainset = data.build_full_trainset()\n",
        "svd = SVD()\n",
        "svd.fit(trainset)\n",
        "\n",
        "# Weighted Hybrid Prediction Function\n",
        "def hybrid_recommend(user_id, movie_id, alpha=0.7):\n",
        "    \"\"\"Combines CF & CBF scores using a weighted sum.\"\"\"\n",
        "\n",
        "    # Collaborative Filtering Prediction (SVD)\n",
        "    cf_score = svd.predict(user_id, movie_id).est\n",
        "\n",
        "    # Content-Based Filtering Prediction (Cosine Similarity)\n",
        "    try:\n",
        "        movie_idx = movies[movies[\"movieId\"] == movie_id].index[0]\n",
        "        similarities = cosine_sim[movie_idx]\n",
        "        similar_movie_indices = np.argsort(similarities)[::-1][1:11]\n",
        "        cbf_score = np.mean([svd.predict(user_id, movies.iloc[i][\"movieId\"]).est for i in similar_movie_indices])\n",
        "    except:\n",
        "        cbf_score = 3.0  # Default neutral score if no similarity found\n",
        "\n",
        "    # Weighted Combination\n",
        "    final_score = alpha * cf_score + (1 - alpha) * cbf_score\n",
        "    return final_score\n",
        "\n",
        "# Example: Predict for user 1 and movie 50\n",
        "predicted_rating = hybrid_recommend(user_id=1, movie_id=50)\n",
        "print(f\"Hybrid Predicted Rating: {predicted_rating:.2f}\")\n",
        "\n"
      ]
    },
    {
      "cell_type": "code",
      "source": [
        "# prompt: generate some recommendations\n",
        "\n",
        "def get_recommendations(user_id, top_n=10):\n",
        "    \"\"\"Provides top N movie recommendations for a user.\"\"\"\n",
        "\n",
        "    # Get movies the user has not rated\n",
        "    rated_movie_ids = ratings[ratings[\"userId\"] == user_id][\"movieId\"].unique()\n",
        "    unrated_movie_ids = movies[~movies[\"movieId\"].isin(rated_movie_ids)][\"movieId\"]\n",
        "\n",
        "    # Predict ratings for unrated movies\n",
        "    predictions = []\n",
        "    for movie_id in unrated_movie_ids:\n",
        "        predictions.append((movie_id, hybrid_recommend(user_id, movie_id)))\n",
        "\n",
        "    # Sort predictions and get top N\n",
        "    predictions.sort(key=lambda x: x[1], reverse=True)\n",
        "    top_recommendations = predictions[:top_n]\n",
        "\n",
        "    # Get movie titles\n",
        "    recommended_movies = []\n",
        "    for movie_id, predicted_rating in top_recommendations:\n",
        "        movie_title = movies[movies[\"movieId\"] == movie_id][\"title\"].iloc[0]\n",
        "        recommended_movies.append((movie_title, predicted_rating))\n",
        "\n",
        "    return recommended_movies\n",
        "\n",
        "# Example: Get recommendations for user 1\n",
        "recommendations = get_recommendations(user_id=1)\n",
        "print(\"Top Recommendations for User 1:\")\n",
        "for movie, rating in recommendations:\n",
        "    print(f\"- {movie} (Predicted Rating: {rating:.2f})\")\n"
      ],
      "metadata": {
        "colab": {
          "base_uri": "https://localhost:8080/"
        },
        "id": "P2Fn9VG8KXOV",
        "outputId": "8f15464b-8121-457d-b2dc-ce3b5ad83c3a"
      },
      "execution_count": 5,
      "outputs": [
        {
          "output_type": "stream",
          "name": "stdout",
          "text": [
            "Top Recommendations for User 1:\n",
            "- Lifted (2006) (Predicted Rating: 4.24)\n",
            "- Twelve Tasks of Asterix, The (Les douze travaux d'Astérix) (1976) (Predicted Rating: 4.21)\n",
            "- Prime Suspect (1991) (Predicted Rating: 4.21)\n",
            "- The War (2007) (Predicted Rating: 4.21)\n",
            "- Personal Journey with Martin Scorsese Through American Movies, A (1995) (Predicted Rating: 4.20)\n",
            "- Zero Motivation (Efes beyahasei enosh) (2014) (Predicted Rating: 4.19)\n",
            "- Something Is Happening (Kuch Kuch Hota Hai) (1998) (Predicted Rating: 4.18)\n",
            "- Crooks in Clover (a.k.a. Monsieur Gangster) (Les tontons flingueurs) (1963) (Predicted Rating: 4.17)\n",
            "- Frozen Planet (2011) (Predicted Rating: 4.17)\n",
            "- North & South (2004) (Predicted Rating: 4.16)\n"
          ]
        }
      ]
    },
    {
      "cell_type": "code",
      "source": [
        "# prompt: save the model\n",
        "\n",
        "import pickle\n",
        "\n",
        "# Save the trained SVD model\n",
        "with open('svd_model.pkl', 'wb') as f:\n",
        "    pickle.dump(svd, f)\n",
        "\n",
        "# Save the TF-IDF vectorizer\n",
        "with open('tfidf_vectorizer.pkl', 'wb') as f:\n",
        "    pickle.dump(tfidf, f)\n",
        "\n",
        "# Save the cosine similarity matrix\n",
        "with open('cosine_sim.pkl', 'wb') as f:\n",
        "    pickle.dump(cosine_sim, f)\n",
        "\n",
        "print(\"Model saved successfully!\")\n"
      ],
      "metadata": {
        "id": "3WLMnwiDQTsi"
      },
      "execution_count": null,
      "outputs": []
    },
    {
      "cell_type": "code",
      "source": [],
      "metadata": {
        "id": "SG1OLwQeQlM2"
      },
      "execution_count": null,
      "outputs": []
    }
  ]
}