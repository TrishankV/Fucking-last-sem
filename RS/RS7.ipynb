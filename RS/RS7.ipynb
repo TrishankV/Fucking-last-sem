{
  "nbformat": 4,
  "nbformat_minor": 0,
  "metadata": {
    "colab": {
      "provenance": []
    },
    "kernelspec": {
      "name": "python3",
      "display_name": "Python 3"
    },
    "language_info": {
      "name": "python"
    }
  },
  "cells": [
    {
      "cell_type": "code",
      "execution_count": 2,
      "metadata": {
        "colab": {
          "base_uri": "https://localhost:8080/"
        },
        "id": "W83-h8IHUcvA",
        "outputId": "907c6371-8c16-440d-da69-a763b0fe325f"
      },
      "outputs": [
        {
          "output_type": "stream",
          "name": "stdout",
          "text": [
            "Dataset URL: https://www.kaggle.com/datasets/prishasawhney/imdb-dataset-top-2000-movies\n",
            "License(s): other\n",
            "Downloading imdb-dataset-top-2000-movies.zip to /content\n",
            "100% 75.5k/75.5k [00:00<00:00, 698kB/s]\n",
            "100% 75.5k/75.5k [00:00<00:00, 696kB/s]\n"
          ]
        }
      ],
      "source": [
        "!kaggle datasets download prishasawhney/imdb-dataset-top-2000-movies"
      ]
    },
    {
      "cell_type": "code",
      "source": [
        "\n",
        "!unzip imdb-dataset-top-2000-movies.zip\n"
      ],
      "metadata": {
        "colab": {
          "base_uri": "https://localhost:8080/"
        },
        "id": "-IdZOtGwUgQM",
        "outputId": "a2a8f488-73c2-49b3-c933-4b6719e70cec"
      },
      "execution_count": 3,
      "outputs": [
        {
          "output_type": "stream",
          "name": "stdout",
          "text": [
            "Archive:  imdb-dataset-top-2000-movies.zip\n",
            "  inflating: imdb_top_2000_movies.csv  \n"
          ]
        }
      ]
    },
    {
      "cell_type": "code",
      "source": [
        "import pandas as pd\n",
        "from sklearn.model_selection import train_test_split, cross_val_score\n",
        "from sklearn.preprocessing import OneHotEncoder\n",
        "from sklearn.compose import ColumnTransformer\n",
        "from sklearn.ensemble import RandomForestRegressor, GradientBoostingRegressor, VotingRegressor\n",
        "from sklearn.pipeline import Pipeline\n",
        "from sklearn.metrics import mean_squared_error\n",
        "from sklearn.model_selection import GridSearchCV\n",
        "from sklearn.linear_model import LinearRegression\n",
        "from sklearn.preprocessing import StandardScaler\n",
        "from sklearn.metrics import mean_squared_error, r2_score\n",
        "import numpy as np"
      ],
      "metadata": {
        "id": "a4nV_xn-Uvgn"
      },
      "execution_count": 18,
      "outputs": []
    },
    {
      "cell_type": "code",
      "source": [
        "data = pd.read_csv(\"/content/imdb_top_2000_movies.csv\")"
      ],
      "metadata": {
        "id": "-kE2A0BEUxVK"
      },
      "execution_count": 30,
      "outputs": []
    },
    {
      "cell_type": "code",
      "source": [
        "print(data.head(5))"
      ],
      "metadata": {
        "colab": {
          "base_uri": "https://localhost:8080/"
        },
        "id": "zre-h68nUzaW",
        "outputId": "d9509db9-6020-4825-874d-d43e1a1414c0"
      },
      "execution_count": 7,
      "outputs": [
        {
          "output_type": "stream",
          "name": "stdout",
          "text": [
            "              Movie Name Release Year  Duration  IMDB Rating  Metascore  \\\n",
            "0          The Godfather         1972       175          9.2      100.0   \n",
            "1  The Godfather Part II         1974       202          9.0       90.0   \n",
            "2        Ordinary People         1980       124          7.7       86.0   \n",
            "3     Lawrence of Arabia         1962       218          8.3      100.0   \n",
            "4             Straw Dogs         1971       113          7.4       73.0   \n",
            "\n",
            "       Votes                        Genre              Director  \\\n",
            "0  2,002,655                 Crime, Drama  Francis Ford Coppola   \n",
            "1  1,358,608                 Crime, Drama  Francis Ford Coppola   \n",
            "2     56,476                        Drama        Robert Redford   \n",
            "3    313,044  Adventure, Biography, Drama            David Lean   \n",
            "4     64,331       Crime, Drama, Thriller         Sam Peckinpah   \n",
            "\n",
            "                Cast     Gross  \n",
            "0      Marlon Brando  $134.97M  \n",
            "1          Al Pacino   $57.30M  \n",
            "2  Donald Sutherland   $54.80M  \n",
            "3      Peter O'Toole   $44.82M  \n",
            "4     Dustin Hoffman       NaN  \n"
          ]
        }
      ]
    },
    {
      "cell_type": "code",
      "source": [
        "data.columns"
      ],
      "metadata": {
        "colab": {
          "base_uri": "https://localhost:8080/"
        },
        "id": "3sW9Cj4HU4zO",
        "outputId": "718f844f-9f49-4ff7-e770-d4cb62084651"
      },
      "execution_count": 22,
      "outputs": [
        {
          "output_type": "execute_result",
          "data": {
            "text/plain": [
              "Index(['Movie Name', 'Release Year', 'Duration', 'IMDB Rating', 'Metascore',\n",
              "       'Votes', 'Genre', 'Director', 'Cast', 'Gross'],\n",
              "      dtype='object')"
            ]
          },
          "metadata": {},
          "execution_count": 22
        }
      ]
    },
    {
      "cell_type": "code",
      "source": [
        "# prompt: def clean_votes and return only numeric values\n",
        "\n",
        "def clean_votes(votes):\n",
        "    # Remove commas and convert to numeric, handling non-numeric values\n",
        "    cleaned_votes = []\n",
        "    for vote in votes:\n",
        "        try:\n",
        "            cleaned_votes.append(int(str(vote).replace(',', '')))\n",
        "        except ValueError:\n",
        "            cleaned_votes.append(np.nan)  # Or any other appropriate default value\n",
        "    return cleaned_votes\n"
      ],
      "metadata": {
        "id": "s-EhWaJZYF0w"
      },
      "execution_count": 39,
      "outputs": []
    },
    {
      "cell_type": "code",
      "source": [
        "\n",
        "for col in ['IMDB Rating', 'Metascore']:\n",
        "    data[col] = pd.to_numeric(data[col], errors='coerce') # Convert to numeric, coercing errors to NaN\n",
        "    mean_value = data[col].mean()\n",
        "    data[col].fillna(mean_value, inplace=True)\n"
      ],
      "metadata": {
        "colab": {
          "base_uri": "https://localhost:8080/"
        },
        "id": "Jc9vj2x1a9cF",
        "outputId": "c4dec9da-f479-43e4-e7fb-55ddbad82215"
      },
      "execution_count": 43,
      "outputs": [
        {
          "output_type": "stream",
          "name": "stderr",
          "text": [
            "<ipython-input-43-db59cec2a383>:4: FutureWarning: A value is trying to be set on a copy of a DataFrame or Series through chained assignment using an inplace method.\n",
            "The behavior will change in pandas 3.0. This inplace method will never work because the intermediate object on which we are setting values always behaves as a copy.\n",
            "\n",
            "For example, when doing 'df[col].method(value, inplace=True)', try using 'df.method({col: value}, inplace=True)' or df[col] = df[col].method(value) instead, to perform the operation inplace on the original object.\n",
            "\n",
            "\n",
            "  data[col].fillna(mean_value, inplace=True)\n"
          ]
        }
      ]
    },
    {
      "cell_type": "code",
      "source": [
        "def clean_year(year_str):\n",
        "    \"\"\"Extract and clean 4-digit year from string input.\"\"\"\n",
        "    try:\n",
        "        # Convert to string and clean special characters\n",
        "        text = str(year_str).strip()\n",
        "\n",
        "        # Extract all 4-digit numbers that could be years (1800-2100)\n",
        "        matches = re.findall(r'\\b(18|19|20)\\d{2}\\b', text)\n",
        "\n",
        "        if matches:\n",
        "            # Take the first valid year found\n",
        "            return float(matches[0])\n",
        "\n",
        "        # If no 4-digit year found but it's a clean number, verify it's a valid year\n",
        "        if text.isdigit() and 1800 <= int(text) <= 2100:\n",
        "            return float(text)\n",
        "\n",
        "        # If conversion fails, return default\n",
        "        return 1980.0\n",
        "    except:\n",
        "        return 1980.0  # Default value\n",
        "\n",
        "def clean_gross(gross_str):\n",
        "    \"\"\"Clean gross revenue data by handling currency format.\"\"\"\n",
        "    try:\n",
        "        if pd.isna(gross_str):\n",
        "            return 0.0\n",
        "        if isinstance(gross_str, (int, float)):\n",
        "            return float(gross_str)\n",
        "\n",
        "        # Remove '$' and 'M', convert to float\n",
        "        cleaned = gross_str.replace('$', '').replace('M', '')\n",
        "        return float(cleaned)\n",
        "    except:\n",
        "        return 0.0\n",
        "\n",
        "def create_preprocessor(df):\n",
        "    \"\"\"Create a preprocessing pipeline for the data.\"\"\"\n",
        "    # Create feature columns\n",
        "    numeric_features = ['Release Year', 'Duration', 'Votes', 'Gross']\n",
        "    categorical_features = ['Genre', 'Director', 'Cast']\n",
        "\n",
        "    # Create preprocessor\n",
        "    numeric_transformer = StandardScaler()\n",
        "    categorical_transformer = OneHotEncoder(handle_unknown='ignore')\n",
        "\n",
        "    preprocessor = ColumnTransformer(\n",
        "        transformers=[\n",
        "            ('num', numeric_transformer, numeric_features),\n",
        "            ('cat', categorical_transformer, categorical_features)\n",
        "        ])\n",
        "\n",
        "    return preprocessor\n",
        "\n",
        "def preprocess_data(df):\n",
        "    \"\"\"Clean and preprocess the data.\"\"\"\n",
        "    df = df.copy()\n",
        "    df['Release Year'] = df['Release Year'].apply(clean_year)\n",
        "    df['Gross'] = df['Gross'].apply(clean_gross)\n",
        "    df['Votes'] = clean_votes(df['Votes'])\n",
        "    return df"
      ],
      "metadata": {
        "id": "15XCxen4ZkEQ"
      },
      "execution_count": 40,
      "outputs": []
    },
    {
      "cell_type": "code",
      "source": [
        "class MovieRecommender:\n",
        "    def __init__(self):\n",
        "        self.model = None\n",
        "        self.preprocessor = None\n",
        "        self.target_scaler = None\n",
        "\n",
        "    def train(self, data):\n",
        "        # Preprocess the data\n",
        "        data = preprocess_data(data)\n",
        "\n",
        "        # Prepare features and targets\n",
        "        X = data[['Release Year', 'Duration', 'Votes', 'Gross', 'Genre', 'Director', 'Cast']]\n",
        "        y = data[['IMDB Rating', 'Metascore']]\n",
        "\n",
        "        # Scale targets\n",
        "        self.target_scaler = StandardScaler()\n",
        "        y_scaled = self.target_scaler.fit_transform(y)\n",
        "\n",
        "        # Split the data\n",
        "        X_train, X_test, y_train, y_test = train_test_split(\n",
        "            X, y_scaled, test_size=0.2, random_state=42\n",
        "        )\n",
        "\n",
        "        # Create and train pipeline\n",
        "        self.preprocessor = create_preprocessor(X)\n",
        "        self.model = Pipeline([\n",
        "            ('preprocessor', self.preprocessor),\n",
        "            ('regressor', LinearRegression())\n",
        "        ])\n",
        "\n",
        "        # Fit the model\n",
        "        self.model.fit(X_train, y_train)\n",
        "\n",
        "        # Calculate and print metrics\n",
        "        y_pred = self.model.predict(X_test)\n",
        "        mse = mean_squared_error(y_test, y_pred)\n",
        "        r2 = r2_score(y_test, y_pred)\n",
        "\n",
        "        print(f\"Model Performance:\")\n",
        "        print(f\"Mean Squared Error: {mse:.4f}\")\n",
        "        print(f\"R² Score: {r2:.4f}\")\n",
        "\n",
        "        return self.model\n",
        "\n",
        "    def recommend_movies(self, data, n_recommendations=5):\n",
        "        # Preprocess the data\n",
        "        data = preprocess_data(data)\n",
        "\n",
        "        # Make predictions for all movies\n",
        "        X = data[['Release Year', 'Duration', 'Votes', 'Gross', 'Genre', 'Director', 'Cast']]\n",
        "        predictions = self.model.predict(X)\n",
        "\n",
        "        # Scale back predictions\n",
        "        predictions_original = self.target_scaler.inverse_transform(predictions)\n",
        "\n",
        "        # Calculate average predicted rating (combining IMDB and Metascore)\n",
        "        # Normalize Metascore to 0-10 scale to match IMDB\n",
        "        avg_ratings = (predictions_original[:, 0] + (predictions_original[:, 1] / 10)) / 2\n",
        "\n",
        "        # Get top N recommendations\n",
        "        top_indices = np.argsort(avg_ratings)[-n_recommendations:][::-1]\n",
        "\n",
        "        recommendations = []\n",
        "        for idx in top_indices:\n",
        "            recommendations.append({\n",
        "                'Movie Name': data.iloc[idx]['Movie Name'],\n",
        "                'Predicted IMDB Rating': predictions_original[idx][0],\n",
        "                'Predicted Metascore': predictions_original[idx][1],\n",
        "                'Average Normalized Rating': avg_ratings[idx]\n",
        "            })\n",
        "\n",
        "        return recommendations\n"
      ],
      "metadata": {
        "id": "qLRt_w6GU6ok"
      },
      "execution_count": 41,
      "outputs": []
    },
    {
      "cell_type": "code",
      "source": [
        "recommender = MovieRecommender()\n",
        "recommender.train(data)\n",
        "\n",
        "    # Get recommendations\n",
        "\n",
        "recommendations = recommender.recommend_movies(data, n_recommendations=3)\n",
        "\n",
        "print(\"\\nTop 3 Movie Recommendations:\")\n",
        "for i, rec in enumerate(recommendations, 1):\n",
        "  print(f\"\\n{i}. {rec['Movie Name']}\")\n",
        "  print(f\"   Predicted IMDB Rating: {rec['Predicted IMDB Rating']:.1f}\")\n",
        "  print(f\"   Predicted Metascore: {rec['Predicted Metascore']:.1f}\")\n",
        "  print(f\"   Average Normalized Rating: {rec['Average Normalized Rating']:.2f}\")\n",
        "\n"
      ],
      "metadata": {
        "colab": {
          "base_uri": "https://localhost:8080/"
        },
        "id": "bslgI35OVzDP",
        "outputId": "c742adc7-8b19-4b67-d365-b1c98d0a5c98"
      },
      "execution_count": 45,
      "outputs": [
        {
          "output_type": "stream",
          "name": "stdout",
          "text": [
            "Model Performance:\n",
            "Mean Squared Error: 1.5164\n",
            "R² Score: -0.4182\n",
            "\n",
            "Top 3 Movie Recommendations:\n",
            "\n",
            "1. Star Wars\n",
            "   Predicted IMDB Rating: 11.2\n",
            "   Predicted Metascore: 108.3\n",
            "   Average Normalized Rating: 11.03\n",
            "\n",
            "2. Cloverfield\n",
            "   Predicted IMDB Rating: 11.6\n",
            "   Predicted Metascore: 103.9\n",
            "   Average Normalized Rating: 10.99\n",
            "\n",
            "3. Blade Runner\n",
            "   Predicted IMDB Rating: 9.6\n",
            "   Predicted Metascore: 118.2\n",
            "   Average Normalized Rating: 10.69\n"
          ]
        }
      ]
    },
    {
      "cell_type": "code",
      "source": [],
      "metadata": {
        "id": "2LH8ZPy0Zdxo"
      },
      "execution_count": null,
      "outputs": []
    }
  ]
}